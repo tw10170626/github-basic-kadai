{
  "nbformat": 4,
  "nbformat_minor": 0,
  "metadata": {
    "colab": {
      "provenance": []
    },
    "kernelspec": {
      "name": "python3",
      "display_name": "Python 3"
    },
    "language_info": {
      "name": "python"
    }
  },
  "cells": [
    {
      "cell_type": "code",
      "execution_count": 19,
      "metadata": {
        "colab": {
          "base_uri": "https://localhost:8080/"
        },
        "id": "p_nAz2DTh7KP",
        "outputId": "1ebf7908-da12-409c-e253-d3d23ff56671"
      },
      "outputs": [
        {
          "output_type": "stream",
          "name": "stdout",
          "text": [
            "110.0\n"
          ]
        }
      ],
      "source": [
        "def add_tax(money, tax_rate):\n",
        "  tax_amount = money * (tax_rate / 100)\n",
        "  total = money + tax_amount\n",
        "  return total\n",
        "\n",
        "print(add_tax(100, 10))\n"
      ]
    },
    {
      "cell_type": "code",
      "source": [],
      "metadata": {
        "id": "mBM4u_kbrYNa"
      },
      "execution_count": null,
      "outputs": []
    }
  ]
}