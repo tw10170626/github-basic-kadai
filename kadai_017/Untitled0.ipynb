{
  "nbformat": 4,
  "nbformat_minor": 0,
  "metadata": {
    "colab": {
      "provenance": []
    },
    "kernelspec": {
      "name": "python3",
      "display_name": "Python 3"
    },
    "language_info": {
      "name": "python"
    }
  },
  "cells": [
    {
      "cell_type": "code",
      "execution_count": 31,
      "metadata": {
        "colab": {
          "base_uri": "https://localhost:8080/"
        },
        "id": "p_nAz2DTh7KP",
        "outputId": "a732c7f6-714c-4e38-c5b3-b716a3d96ebb"
      },
      "outputs": [
        {
          "output_type": "stream",
          "name": "stdout",
          "text": [
            "田中さんは大人です。\n",
            "山田さんは大人です。\n",
            "鈴木さんは大人ではありません。\n",
            "佐藤さんは大人です。\n"
          ]
        }
      ],
      "source": [
        "class Human:\n",
        "  def __init__(self, name, age):\n",
        "    self.name = name\n",
        "    self.age = age\n",
        "\n",
        "  def check_adult(self):\n",
        "    if self.age >= 20:\n",
        "      print(f\"{self.name}さんは大人です。\")\n",
        "    else:\n",
        "      print(f\"{self.name}さんは大人ではありません。\")\n",
        "\n",
        "humans = [\n",
        "    Human(\"田中\",25),\n",
        "    Human(\"山田\",21),\n",
        "    Human(\"鈴木\",19),\n",
        "    Human(\"佐藤\",30)\n",
        "]\n",
        "\n",
        "\n",
        "for human in humans:\n",
        "  human.check_adult()"
      ]
    },
    {
      "cell_type": "code",
      "source": [],
      "metadata": {
        "id": "mBM4u_kbrYNa"
      },
      "execution_count": null,
      "outputs": []
    }
  ]
}